{
 "cells": [
  {
   "cell_type": "code",
   "execution_count": 6,
   "id": "7e531983-a1bd-4217-a5cc-01270fe72ead",
   "metadata": {
    "tags": []
   },
   "outputs": [
    {
     "data": {
      "text/plain": [
       "(1226, 6)"
      ]
     },
     "execution_count": 6,
     "metadata": {},
     "output_type": "execute_result"
    }
   ],
   "source": [
    "import pandas as pd\n",
    "\n",
    "# Read in file, argument is the file path\n",
    "df = pd.read_csv('Data/wetland_ps_bird_abundance_and_richness-2024-06-12_14-47-54.csv')\n",
    "\n",
    "# Print data frame's first five rows \n",
    "df.head()\n",
    "\n",
    "# Print data frame's last five rows \n",
    "df.tail()\n",
    "\n",
    "# Print data frame's column names\n",
    "df.columns\n",
    "\n",
    "# List the data types of each column\n",
    "df.dtypes\n",
    "\n",
    "# Print data frame's shape: output is a tuple (# rows, # columns)\n",
    "df.shape"
   ]
  },
  {
   "cell_type": "markdown",
   "id": "756db674-1fa8-4ae1-bea9-bd5d73a1216f",
   "metadata": {},
   "source": [
    "#### Example\n",
    "\n",
    "We want to look at data from years 2012 to 2015 including both years.\n",
    "We can use this %between% method in our condition:"
   ]
  },
  {
   "cell_type": "raw",
   "id": "9ca4a927-a1c5-401a-b2a1-6a9f3007fb4d",
   "metadata": {},
   "source": [
    "subset = df[df['year'.between](2012,2015)]"
   ]
  },
  {
   "cell_type": "code",
   "execution_count": null,
   "id": "a18e41f4-471d-43f6-b8b3-d024d580d78d",
   "metadata": {},
   "outputs": [],
   "source": [
    "# ..."
   ]
  },
  {
   "cell_type": "raw",
   "id": "6a958ec6-8d83-4046-a506-9f48b7efe3be",
   "metadata": {},
   "source": [
    "We prefer the first syntax because it is simpler.\n",
    "\n",
    "### using multiple condition\n",
    "\n",
    "We can combine mult cond to select rows by surrounding each cond in parenthesis '()' and using the or operator '|' and the and operator '&'.\n",
    "\n",
    "## Example: or \n",
    "Select rows in which CSM has more than 50 species registered in winter *or* fall:"
   ]
  },
  {
   "cell_type": "code",
   "execution_count": null,
   "id": "706ca240-61a8-45e6-84f3-78eed9de57c5",
   "metadata": {
    "tags": []
   },
   "outputs": [],
   "source": [
    "df[(df['CSM_winter'] > 50) | (df['CSM_fall']>50)]"
   ]
  },
  {
   "cell_type": "markdown",
   "id": "46456608-d748-4799-9abf-2be22b963141",
   "metadata": {},
   "source": [
    "## Exampled: and\n",
    "\n",
    "select rows in which both the CSM and SDW have more than 60 species during spring"
   ]
  },
  {
   "cell_type": "markdown",
   "id": "f5c41f3a-171e-4ad7-8960-f47566aacf05",
   "metadata": {},
   "source": [
    "## select rows by position\n",
    "\n",
    "Sometimes we may want to select certain rows based on their *actual position* in the data frame. In other words, using **position-based subsetting*.\n",
    "\n",
    "To do this, we use **iloc selection** sytax:\n",
    "\n",
    "```python"
   ]
  },
  {
   "cell_type": "code",
   "execution_count": 9,
   "id": "5698f4e2-332f-4847-bcdf-89c4cd01d4b0",
   "metadata": {
    "tags": []
   },
   "outputs": [],
   "source": [
    "# Select the fifth row (index = 4)"
   ]
  },
  {
   "cell_type": "markdown",
   "id": "5be1b036-a6d3-4cc5-8bb8-c5573485cded",
   "metadata": {},
   "source": [
    "## Selecting rows and columns simultaneously\n",
    "\n",
    "can be done using the 'loc' labels or 'iloc' (positions).\n",
    "\n",
    "### ...by labels or conditions\n",
    "When we want to select rows and columns simultaneuosly by label (including using conditions) we can use 'loc' selection with the syntax:\n",
    "\n",
    "```python\n",
    "df.loc[row-selection,column-selection]\n",
    "```\n",
    "\n",
    "Example:\n",
    "slect winter surveys from MUL and TJE after 2020\n",
    "\n",
    "```python\n",
    "df.loc[df['year']]>2020,['MUL_winter', 'TJE_winter','year']]\n",
    "```\n",
    "## selecting by position\n",
    "\n",
    "Suppose we want to select row 3-7 (including 7) and columns 4th and 5th column\n",
    "\n",
    "```python\n",
    "df.iloc[3:8,[3,4]]\n",
    "\n",
    "```\n",
    "\n",
    "## Notes about 'iloc' and 'loc'\n",
    "\n",
    "### Which one does what?\n",
    "\n",
    "Remember that the 'i' in 'iloc' stands for integer location and it uses integer indexing the same way as indexing for Python list,\n",
    "\n",
    "### 'iloc' for columns selection? Avoid it!\n",
    "\n",
    "We can also access columns by position using 'iloc' - but best not to if possible.\n",
    "\n",
    "Example:\n",
    "\n",
    "We want to access the 9th  columns - unless really necessary do not use. it can break in many ways - \n",
    "1. it relies on you correctly counting the position of a column. Even with a small datset this can be prone to error.\n",
    "\n",
    "2. it is not explicit: if we want info about that column, then use 'df['SDW_spring']'\n",
    "\n",
    "3. Unless working with big data- to optimize"
   ]
  }
 ],
 "metadata": {
  "kernelspec": {
   "display_name": "Python 3.10.0",
   "language": "python",
   "name": "python3.10.0"
  },
  "language_info": {
   "codemirror_mode": {
    "name": "ipython",
    "version": 3
   },
   "file_extension": ".py",
   "mimetype": "text/x-python",
   "name": "python",
   "nbconvert_exporter": "python",
   "pygments_lexer": "ipython3",
   "version": "3.10.0"
  }
 },
 "nbformat": 4,
 "nbformat_minor": 5
}
