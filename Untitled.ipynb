{
 "cells": [
  {
   "cell_type": "markdown",
   "id": "5c197bd5-e7ea-492a-9152-2ed914403cb9",
   "metadata": {},
   "source": [
    "# CSV to 'GeoDataFrame'\n",
    "\n",
    "Let's start with iporting packages and updating viewing options:"
   ]
  },
  {
   "cell_type": "code",
   "execution_count": 2,
   "id": "7ac7dc1d-71a2-439f-9b64-8300d066167b",
   "metadata": {
    "tags": []
   },
   "outputs": [],
   "source": [
    "import os\n",
    "import pandas as pd"
   ]
  },
  {
   "cell_type": "code",
   "execution_count": null,
   "id": "78c231ce-d944-497d-bd4c-8ee8833bbd09",
   "metadata": {},
   "outputs": [],
   "source": []
  }
 ],
 "metadata": {
  "kernelspec": {
   "display_name": "Anaconda 3 (Base)",
   "language": "python",
   "name": "base"
  },
  "language_info": {
   "codemirror_mode": {
    "name": "ipython",
    "version": 3
   },
   "file_extension": ".py",
   "mimetype": "text/x-python",
   "name": "python",
   "nbconvert_exporter": "python",
   "pygments_lexer": "ipython3",
   "version": "3.9.13"
  }
 },
 "nbformat": 4,
 "nbformat_minor": 5
}
