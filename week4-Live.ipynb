{
 "cells": [
  {
   "cell_type": "markdown",
   "id": "6f431ebc-0509-4be0-b42b-83472e5e2d27",
   "metadata": {},
   "source": [
    "# GEOPANDAS"
   ]
  },
  {
   "cell_type": "code",
   "execution_count": 1,
   "id": "64240d09-fbcf-43f8-bc6c-fdf462ac4239",
   "metadata": {
    "tags": []
   },
   "outputs": [],
   "source": [
    "import os\n",
    "import geopandas as gpd\n",
    "import matplotlib.pyplot as plt"
   ]
  },
  {
   "cell_type": "code",
   "execution_count": 4,
   "id": "b37dcf4f-176d-4985-bdc9-b7a99a91cfed",
   "metadata": {
    "tags": []
   },
   "outputs": [
    {
     "data": {
      "text/plain": [
       "'week4-data/gbif_sus_scrofa_california.shp'"
      ]
     },
     "execution_count": 4,
     "metadata": {},
     "output_type": "execute_result"
    }
   ],
   "source": [
    "fp = os.path.join('week4-data', 'gbif_sus_scrofa_california.shp')\n",
    "fp"
   ]
  },
  {
   "cell_type": "code",
   "execution_count": 5,
   "id": "e35c4580-6a5a-4ba1-87ee-d96e0d9ee2cf",
   "metadata": {
    "tags": []
   },
   "outputs": [],
   "source": [
    "pigs = gpd.read_file(fp)"
   ]
  },
  {
   "cell_type": "code",
   "execution_count": 6,
   "id": "f35cf38f-037a-4e8f-a08b-17978465b75a",
   "metadata": {},
   "outputs": [],
   "source": [
    "cal = os.path.join('week4-data', 'ca_state_boundary.shp')"
   ]
  },
  {
   "cell_type": "code",
   "execution_count": 7,
   "id": "275c6cdc-e806-4dc7-bd2e-fe79542f97c3",
   "metadata": {
    "tags": []
   },
   "outputs": [],
   "source": [
    "cali = gpd.read_file(cal)"
   ]
  },
  {
   "cell_type": "code",
   "execution_count": 8,
   "id": "346c521a-86d1-42e0-b4b5-050e0d568ba8",
   "metadata": {
    "tags": []
   },
   "outputs": [
    {
     "data": {
      "text/html": [
       "<div>\n",
       "<style scoped>\n",
       "    .dataframe tbody tr th:only-of-type {\n",
       "        vertical-align: middle;\n",
       "    }\n",
       "\n",
       "    .dataframe tbody tr th {\n",
       "        vertical-align: top;\n",
       "    }\n",
       "\n",
       "    .dataframe thead th {\n",
       "        text-align: right;\n",
       "    }\n",
       "</style>\n",
       "<table border=\"1\" class=\"dataframe\">\n",
       "  <thead>\n",
       "    <tr style=\"text-align: right;\">\n",
       "      <th></th>\n",
       "      <th>gbifID</th>\n",
       "      <th>species</th>\n",
       "      <th>state</th>\n",
       "      <th>individual</th>\n",
       "      <th>day</th>\n",
       "      <th>month</th>\n",
       "      <th>year</th>\n",
       "      <th>inst</th>\n",
       "      <th>collection</th>\n",
       "      <th>catalogNum</th>\n",
       "      <th>identified</th>\n",
       "      <th>geometry</th>\n",
       "    </tr>\n",
       "  </thead>\n",
       "  <tbody>\n",
       "    <tr>\n",
       "      <th>0</th>\n",
       "      <td>899953814</td>\n",
       "      <td>Sus scrofa</td>\n",
       "      <td>California</td>\n",
       "      <td>NaN</td>\n",
       "      <td>22.0</td>\n",
       "      <td>3.0</td>\n",
       "      <td>2014.0</td>\n",
       "      <td>iNaturalist</td>\n",
       "      <td>Observations</td>\n",
       "      <td>581956</td>\n",
       "      <td>edwardrooks</td>\n",
       "      <td>POINT (-121.53812 37.08846)</td>\n",
       "    </tr>\n",
       "    <tr>\n",
       "      <th>1</th>\n",
       "      <td>899951348</td>\n",
       "      <td>Sus scrofa</td>\n",
       "      <td>California</td>\n",
       "      <td>NaN</td>\n",
       "      <td>9.0</td>\n",
       "      <td>6.0</td>\n",
       "      <td>2007.0</td>\n",
       "      <td>iNaturalist</td>\n",
       "      <td>Observations</td>\n",
       "      <td>576047</td>\n",
       "      <td>Bruce Freeman</td>\n",
       "      <td>POINT (-120.54942 35.47354)</td>\n",
       "    </tr>\n",
       "    <tr>\n",
       "      <th>2</th>\n",
       "      <td>896560733</td>\n",
       "      <td>Sus scrofa</td>\n",
       "      <td>California</td>\n",
       "      <td>NaN</td>\n",
       "      <td>20.0</td>\n",
       "      <td>12.0</td>\n",
       "      <td>1937.0</td>\n",
       "      <td>MVZ</td>\n",
       "      <td>Hild</td>\n",
       "      <td>MVZ:Hild:195</td>\n",
       "      <td>Museum of Vertebrate Zoology, University of Ca...</td>\n",
       "      <td>POINT (-122.27063 37.87610)</td>\n",
       "    </tr>\n",
       "    <tr>\n",
       "      <th>3</th>\n",
       "      <td>896559958</td>\n",
       "      <td>Sus scrofa</td>\n",
       "      <td>California</td>\n",
       "      <td>NaN</td>\n",
       "      <td>1.0</td>\n",
       "      <td>4.0</td>\n",
       "      <td>1969.0</td>\n",
       "      <td>MVZ</td>\n",
       "      <td>Hild</td>\n",
       "      <td>MVZ:Hild:1213</td>\n",
       "      <td>Museum of Vertebrate Zoology, University of Ca...</td>\n",
       "      <td>POINT (-121.82297 38.44543)</td>\n",
       "    </tr>\n",
       "    <tr>\n",
       "      <th>4</th>\n",
       "      <td>896559722</td>\n",
       "      <td>Sus scrofa</td>\n",
       "      <td>California</td>\n",
       "      <td>NaN</td>\n",
       "      <td>1.0</td>\n",
       "      <td>1.0</td>\n",
       "      <td>1961.0</td>\n",
       "      <td>MVZ</td>\n",
       "      <td>Hild</td>\n",
       "      <td>MVZ:Hild:1004</td>\n",
       "      <td>Museum of Vertebrate Zoology, University of Ca...</td>\n",
       "      <td>POINT (-121.74559 38.54882)</td>\n",
       "    </tr>\n",
       "  </tbody>\n",
       "</table>\n",
       "</div>"
      ],
      "text/plain": [
       "      gbifID     species       state  individual   day  month    year  \\\n",
       "0  899953814  Sus scrofa  California         NaN  22.0    3.0  2014.0   \n",
       "1  899951348  Sus scrofa  California         NaN   9.0    6.0  2007.0   \n",
       "2  896560733  Sus scrofa  California         NaN  20.0   12.0  1937.0   \n",
       "3  896559958  Sus scrofa  California         NaN   1.0    4.0  1969.0   \n",
       "4  896559722  Sus scrofa  California         NaN   1.0    1.0  1961.0   \n",
       "\n",
       "          inst    collection     catalogNum  \\\n",
       "0  iNaturalist  Observations         581956   \n",
       "1  iNaturalist  Observations         576047   \n",
       "2          MVZ          Hild   MVZ:Hild:195   \n",
       "3          MVZ          Hild  MVZ:Hild:1213   \n",
       "4          MVZ          Hild  MVZ:Hild:1004   \n",
       "\n",
       "                                          identified  \\\n",
       "0                                        edwardrooks   \n",
       "1                                      Bruce Freeman   \n",
       "2  Museum of Vertebrate Zoology, University of Ca...   \n",
       "3  Museum of Vertebrate Zoology, University of Ca...   \n",
       "4  Museum of Vertebrate Zoology, University of Ca...   \n",
       "\n",
       "                      geometry  \n",
       "0  POINT (-121.53812 37.08846)  \n",
       "1  POINT (-120.54942 35.47354)  \n",
       "2  POINT (-122.27063 37.87610)  \n",
       "3  POINT (-121.82297 38.44543)  \n",
       "4  POINT (-121.74559 38.54882)  "
      ]
     },
     "execution_count": 8,
     "metadata": {},
     "output_type": "execute_result"
    }
   ],
   "source": [
    "pigs.head()"
   ]
  },
  {
   "cell_type": "code",
   "execution_count": 9,
   "id": "b230897a-b91b-4df6-98e2-4cbf6944f364",
   "metadata": {
    "tags": []
   },
   "outputs": [
    {
     "name": "stdout",
     "output_type": "stream",
     "text": [
      "<class 'geopandas.geodataframe.GeoDataFrame'>\n",
      "<class 'geopandas.geoseries.GeoSeries'>\n",
      "<class 'pandas.core.series.Series'>\n"
     ]
    }
   ],
   "source": [
    "# Check object\n",
    "\n",
    "print(type(pigs))\n",
    "\n",
    "# check object geom col\n",
    "print(type(pigs.geometry))\n",
    "\n",
    "# check object species\n",
    "print(type(pigs.species))"
   ]
  },
  {
   "cell_type": "code",
   "execution_count": 11,
   "id": "5137de79-d5bc-40a3-97e7-a07a0243fce2",
   "metadata": {
    "tags": []
   },
   "outputs": [],
   "source": [
    "# Check data type of geom col- reflected when look. at dtpes in each col"
   ]
  },
  {
   "cell_type": "code",
   "execution_count": 12,
   "id": "e9b05a33-9076-4200-ac5f-be3f2b1800b0",
   "metadata": {
    "tags": []
   },
   "outputs": [
    {
     "data": {
      "text/plain": [
       "gbifID           int64\n",
       "species         object\n",
       "state           object\n",
       "individual     float64\n",
       "day            float64\n",
       "month          float64\n",
       "year           float64\n",
       "inst            object\n",
       "collection      object\n",
       "catalogNum      object\n",
       "identified      object\n",
       "geometry      geometry\n",
       "dtype: object"
      ]
     },
     "execution_count": 12,
     "metadata": {},
     "output_type": "execute_result"
    }
   ],
   "source": [
    "pigs.dtypes"
   ]
  },
  {
   "cell_type": "code",
   "execution_count": 13,
   "id": "64acc5f2-ce52-435c-aa27-1f3ebe63452c",
   "metadata": {
    "tags": []
   },
   "outputs": [],
   "source": [
    "# check geom type of each att in each col"
   ]
  },
  {
   "cell_type": "code",
   "execution_count": 14,
   "id": "309eb3ab-30b1-4858-a98e-8126e2d97d67",
   "metadata": {
    "tags": []
   },
   "outputs": [
    {
     "data": {
      "text/plain": [
       "0       Point\n",
       "1       Point\n",
       "2       Point\n",
       "3       Point\n",
       "4       Point\n",
       "        ...  \n",
       "1041    Point\n",
       "1042    Point\n",
       "1043    Point\n",
       "1044    Point\n",
       "1045    Point\n",
       "Length: 1046, dtype: object"
      ]
     },
     "execution_count": 14,
     "metadata": {},
     "output_type": "execute_result"
    }
   ],
   "source": [
    "pigs.geom_type"
   ]
  },
  {
   "cell_type": "markdown",
   "id": "8ff538d6-c224-4e2e-a395-7ebac68181f1",
   "metadata": {},
   "source": [
    "## Check in\n",
    "\n",
    "What is geom tye of the single feature of the CA stat boundary =? W=and Why does it make snese to have this kind of geom?"
   ]
  },
  {
   "cell_type": "code",
   "execution_count": 15,
   "id": "65839239-f944-42cb-bf7f-169ff0464eb9",
   "metadata": {
    "tags": []
   },
   "outputs": [
    {
     "name": "stdout",
     "output_type": "stream",
     "text": [
      "<class 'geopandas.geodataframe.GeoDataFrame'>\n"
     ]
    }
   ],
   "source": [
    "print(type(cali))"
   ]
  },
  {
   "cell_type": "code",
   "execution_count": 17,
   "id": "81f7fc19-e1a6-4dde-ba6b-da5ee4ae1fd2",
   "metadata": {
    "tags": []
   },
   "outputs": [
    {
     "data": {
      "text/plain": [
       "0    MultiPolygon\n",
       "dtype: object"
      ]
     },
     "execution_count": 17,
     "metadata": {},
     "output_type": "execute_result"
    }
   ],
   "source": [
    "cali.geom_type"
   ]
  },
  {
   "cell_type": "markdown",
   "id": "e517a3ff-ab4f-43c6-b48d-ad8be944bfd7",
   "metadata": {},
   "source": [
    "## CRS and extent"
   ]
  },
  {
   "cell_type": "code",
   "execution_count": 18,
   "id": "0bdc3fa0-90c8-4d2f-a258-ec565410fccd",
   "metadata": {
    "tags": []
   },
   "outputs": [
    {
     "data": {
      "text/plain": [
       "<Geographic 2D CRS: EPSG:4326>\n",
       "Name: WGS 84\n",
       "Axis Info [ellipsoidal]:\n",
       "- Lat[north]: Geodetic latitude (degree)\n",
       "- Lon[east]: Geodetic longitude (degree)\n",
       "Area of Use:\n",
       "- name: World.\n",
       "- bounds: (-180.0, -90.0, 180.0, 90.0)\n",
       "Datum: World Geodetic System 1984 ensemble\n",
       "- Ellipsoid: WGS 84\n",
       "- Prime Meridian: Greenwich"
      ]
     },
     "execution_count": 18,
     "metadata": {},
     "output_type": "execute_result"
    }
   ],
   "source": [
    "# Accesss the CRS of the gPD coordinate ref system\n",
    "# we can think of the crs as instructions to locate each spatial feature of our df\n",
    "pigs.crs"
   ]
  },
  {
   "cell_type": "code",
   "execution_count": 21,
   "id": "34163f9f-f4a8-4b3b-8329-49fb77299338",
   "metadata": {
    "tags": []
   },
   "outputs": [
    {
     "name": "stdout",
     "output_type": "stream",
     "text": [
      "ellipsoid: WGS 84\n",
      "datum:  World Geodetic System 1984 ensemble\n",
      "is geographic ?: True\n",
      "is projected ?: False\n"
     ]
    }
   ],
   "source": [
    "# Get more info aout hte CRS\n",
    "\n",
    "print('ellipsoid:',pigs.crs.ellipsoid)\n",
    "print('datum: ',pigs.crs.datum)\n",
    "print('is geographic ?:',pigs.crs.is_geographic)\n",
    "print('is projected ?:',pigs.crs.is_projected)"
   ]
  },
  {
   "cell_type": "markdown",
   "id": "d2404948-1b6e-40ac-9574-0d28f87321ec",
   "metadata": {},
   "source": [
    "- what are the ellipsoid and the datum? What are they telling us about CRS?\n",
    "- What does it mean that the CRS is geographic and not projectd?\n",
    "\n",
    "The extent of the feodataframe is the bouding box covering all the spatial feaures in our go df.\n",
    "\n",
    "This is formed by finding the points that are furthest west, eat,south and north"
   ]
  },
  {
   "cell_type": "code",
   "execution_count": 23,
   "id": "13df50f9-7ce7-4985-b6a7-689b3b450c1e",
   "metadata": {
    "tags": []
   },
   "outputs": [
    {
     "data": {
      "text/plain": [
       "array([-124.29448 ,   32.593433, -115.4356  ,   40.934296])"
      ]
     },
     "execution_count": 23,
     "metadata": {},
     "output_type": "execute_result"
    }
   ],
   "source": [
    "#obtain the geo exten of the df\n",
    "pigs.total_bounds"
   ]
  },
  {
   "cell_type": "code",
   "execution_count": 24,
   "id": "7601d036-40b9-4c17-86a8-a8031516b2bf",
   "metadata": {
    "tags": []
   },
   "outputs": [
    {
     "name": "stdout",
     "output_type": "stream",
     "text": [
      "CRS: epsg:4326\n"
     ]
    }
   ],
   "source": [
    "print(\"CRS:\", cali.crs)"
   ]
  },
  {
   "cell_type": "markdown",
   "id": "d50d9abd-89b5-4c6c-9a43-d60c48320c25",
   "metadata": {},
   "source": [
    "## Data wrangling\n",
    "\n",
    "Since geopd is built on top of pandas, we may use everything we have learned about data selection, wrangling, and modiication for pandas,df to wrangle geo dataframes.\n",
    "\n",
    "Example we only want to use recent dat for wild pig observations.\n"
   ]
  },
  {
   "cell_type": "code",
   "execution_count": 26,
   "id": "97c247d7-374a-40d2-a760-d50627c2634a",
   "metadata": {
    "tags": []
   },
   "outputs": [
    {
     "data": {
      "text/plain": [
       "1818.0     31\n",
       "1910.0      1\n",
       "1925.0      1\n",
       "1927.0      4\n",
       "1929.0      3\n",
       "         ... \n",
       "2019.0    101\n",
       "2020.0    159\n",
       "2021.0    164\n",
       "2022.0    185\n",
       "2023.0     98\n",
       "Name: year, Length: 61, dtype: int64"
      ]
     },
     "execution_count": 26,
     "metadata": {},
     "output_type": "execute_result"
    }
   ],
   "source": [
    "# examin pig obs per year\n",
    "pigs.year.value_counts().sort_index()"
   ]
  },
  {
   "cell_type": "code",
   "execution_count": 29,
   "id": "d08fa570-5e04-461a-9c73-549f4ae63de4",
   "metadata": {
    "tags": []
   },
   "outputs": [
    {
     "name": "stdout",
     "output_type": "stream",
     "text": [
      "total um of obvs 1046\n",
      "num of new obvs since 2020: 606\n"
     ]
    }
   ],
   "source": [
    "# Select data from 2020 onwards\n",
    "pigs_recent = pigs[pigs.year>=2020]\n",
    "\n",
    "# check length of og df\n",
    "print('total um of obvs', len(pigs))\n",
    "\n",
    "# cehck len of new df\n",
    "print('num of new obvs since 2020:',len(pigs_recent))"
   ]
  },
  {
   "cell_type": "markdown",
   "id": "eb03c124-0f93-4d1a-97c2-5f5223382b44",
   "metadata": {},
   "source": [
    "## Create a map\n",
    "\n",
    "\n",
    "geo df also have a plot() method that we can call directly for a qick map\n",
    "\n",
    "To crate a black figure:\n"
   ]
  },
  {
   "cell_type": "code",
   "execution_count": 36,
   "id": "04fea8db-5c14-4eaf-9d38-052f3f152d66",
   "metadata": {
    "tags": []
   },
   "outputs": [
    {
     "data": {
      "image/png": "[encoded data removed]",
      "text/plain": [
       "<Figure size 640x480 with 1 Axes>"
      ]
     },
     "metadata": {},
     "output_type": "display_data"
    }
   ],
   "source": [
    "# init empty figure (fig) and axes (ax)\n",
    "fig,ax = plt.subplots()\n",
    "\n",
    "\n",
    "# add Ca boundary\n",
    "cali.plot(ax=ax,\n",
    "         color = 'none',\n",
    "         edgecolor='black')\n",
    "\n",
    "# Add pigs point plot to oour fdures axis\n",
    "pigs_recent.plot(ax=ax)\n",
    "\n",
    "# custom\n",
    "ax.set_title('Reported \"Sus scrofa\" sightings in Ca in (2020-2023)')\n",
    "\n",
    "#Display the fig\n",
    "plt.show()"
   ]
  },
  {
   "cell_type": "code",
   "execution_count": null,
   "id": "9ca11098-4754-4836-843f-87df8f13f736",
   "metadata": {},
   "outputs": [],
   "source": []
  }
 ],
 "metadata": {
  "kernelspec": {
   "display_name": "Anaconda 3 (Base)",
   "language": "python",
   "name": "base"
  },
  "language_info": {
   "codemirror_mode": {
    "name": "ipython",
    "version": 3
   },
   "file_extension": ".py",
   "mimetype": "text/x-python",
   "name": "python",
   "nbconvert_exporter": "python",
   "pygments_lexer": "ipython3",
   "version": "3.9.13"
  }
 },
 "nbformat": 4,
 "nbformat_minor": 5
}
