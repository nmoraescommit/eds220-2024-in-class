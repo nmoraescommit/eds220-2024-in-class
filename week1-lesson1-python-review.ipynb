{
 "cells": [
  {
   "cell_type": "markdown",
   "id": "e6e46d7f-038b-4817-bfc2-5dc508ded054",
   "metadata": {},
   "source": [
    "# Python Review\n",
    "\n",
    "Short review about some core concepts in Python exemplified by objects in the Numpy library.\n",
    "\n",
    "Goals:\n",
    "\n",
    "- recall basic Python vocabulary\n",
    "- practice markdown syntax\n",
    "\n",
    "## libraries and packages\n",
    "\n",
    "**library:** is a collection of code that we can use to perform specific tasks in our programs. It can be a single file or multipile files.\n",
    "\n",
    "**NumPy:**\n",
    "\n",
    "- core library for numerical computing in Python\n",
    "- many libraries use NumPy arrays as their building blocks\n",
    "- computation on NumPy objects are optimized for speed and memory usage\n",
    "\n",
    "Let's import NumPy with its **standard abbreviation** 'np':"
   ]
  },
  {
   "cell_type": "code",
   "execution_count": 1,
   "id": "a31c093f-aebf-412d-a77d-57e0e6ea1993",
   "metadata": {
    "tags": []
   },
   "outputs": [],
   "source": [
    "import numpy as np"
   ]
  },
  {
   "cell_type": "markdown",
   "id": "2f8175c0-a271-462e-a768-5b67714bf973",
   "metadata": {},
   "source": [
    "## Variables\n",
    "\n",
    "**variable:** a name we assign to a particular object in Python\n",
    "\n",
    "Example:"
   ]
  },
  {
   "cell_type": "code",
   "execution_count": 2,
   "id": "6b60adf5-b401-4f69-bd33-b047b154a8ee",
   "metadata": {
    "tags": []
   },
   "outputs": [],
   "source": [
    "# Assign a small array to variable a \n",
    "\n",
    "a = np.array([[1,1,2],[3,5,8]])"
   ]
  },
  {
   "cell_type": "markdown",
   "id": "80dea186-f04e-4cff-9099-ee42a091d24b",
   "metadata": {},
   "source": [
    "To view a variable's value from Jupyter Notebook:"
   ]
  },
  {
   "cell_type": "code",
   "execution_count": 3,
   "id": "b56ba2cd-9ea3-4bf2-bb0d-4c69dce0dcea",
   "metadata": {
    "tags": []
   },
   "outputs": [
    {
     "data": {
      "text/plain": [
       "array([[1, 1, 2],\n",
       "       [3, 5, 8]])"
      ]
     },
     "execution_count": 3,
     "metadata": {},
     "output_type": "execute_result"
    }
   ],
   "source": [
    "# Run cell with variable name to show value\n",
    "\n",
    "a"
   ]
  },
  {
   "cell_type": "code",
   "execution_count": 4,
   "id": "e9103994-33ca-4464-9141-b0d2432cb939",
   "metadata": {
    "tags": []
   },
   "outputs": [
    {
     "name": "stdout",
     "output_type": "stream",
     "text": [
      "[[1 1 2]\n",
      " [3 5 8]]\n"
     ]
    }
   ],
   "source": [
    "# can also use 'print' function to print the value\n",
    "print(a)"
   ]
  },
  {
   "cell_type": "markdown",
   "id": "3bb81183-8510-42f6-877b-ee0f4fb6c8c1",
   "metadata": {},
   "source": [
    "## Convention: Use 'snake_case' for naimg variables.\n",
    "\n",
    "This is the convention we will use in the course. Why? 'my-variable' or 'MyVariable' or 'myVariable',\n",
    "PEP 8 - Style Guide for Python Code recomnnends snake_case.\n",
    "\n",
    "**Remember that variable names should be descriptive and concise!**\n",
    "\n",
    "## Objects\n",
    "\n",
    "**object:** (informally speaking) is a bundle of *properties* and *actions* about something specfic.\n",
    "\n",
    "Example:\n",
    "\n",
    "Oject: data frame\n",
    "Properties: number of rows, names of column, and date created\n",
    "Actions: selecting a specific row or adding a new column\n",
    "\n",
    "A variable is the name we give a specific object, and the same object can be referenced by different variables.\n",
    "\n",
    "In practice, we can often use the word variable and object interchangeably.\n",
    "\n",
    "## Types\n",
    "\n",
    "Every object in Python has a **type**, the type tells us what kind of object we have. So class and object both mean what kind of object we have."
   ]
  },
  {
   "cell_type": "code",
   "execution_count": 5,
   "id": "3c76c927-f9f0-4b03-99f9-caad0695f1b9",
   "metadata": {
    "tags": []
   },
   "outputs": [
    {
     "name": "stdout",
     "output_type": "stream",
     "text": [
      "[[1 1 2]\n",
      " [3 5 8]]\n"
     ]
    }
   ],
   "source": [
    "print(a)"
   ]
  },
  {
   "cell_type": "code",
   "execution_count": 6,
   "id": "cc4eb89d-69e0-44a1-b428-9460c7b8a1bf",
   "metadata": {
    "tags": []
   },
   "outputs": [
    {
     "data": {
      "text/plain": [
       "numpy.ndarray"
      ]
     },
     "execution_count": 6,
     "metadata": {},
     "output_type": "execute_result"
    }
   ],
   "source": [
    "#See the type/class of a variable/odject by using the 'type' function\n",
    "type(a)"
   ]
  },
  {
   "cell_type": "code",
   "execution_count": 8,
   "id": "42182cab-6c1e-4b05-9ff3-7152086b82f7",
   "metadata": {
    "tags": []
   },
   "outputs": [
    {
     "name": "stdout",
     "output_type": "stream",
     "text": [
      "1\n"
     ]
    },
    {
     "data": {
      "text/plain": [
       "numpy.int64"
      ]
     },
     "execution_count": 8,
     "metadata": {},
     "output_type": "execute_result"
    }
   ],
   "source": [
    "print(a[0,0])\n",
    "type(a[0,0])"
   ]
  },
  {
   "cell_type": "markdown",
   "id": "f5d49cb2-84da-4a1f-8fb2-411f4b93855d",
   "metadata": {},
   "source": [
    "'numpy.int64' is not the standard Python intefet type 'int'.\n",
    "numpy.int64 is a special date type in Numpy telling us that 1 is an integer stored as a 64-bit integer."
   ]
  },
  {
   "cell_type": "markdown",
   "id": "6058505d-5a5c-4931-9014-aa3f2b93bf95",
   "metadata": {},
   "source": [
    "## Functions\n",
    "\n",
    "'print' was our first example of a Python **function**\n",
    "\n",
    "Functions take in a set of **arguments**, seperated by commas, and use those arguments to create an **output**.\n",
    "\n",
    "In the course we'll be using argument ane paramenter interchangeably. But they do have slightly different meanings. We can ask for info about what the function does using '?'."
   ]
  },
  {
   "cell_type": "code",
   "execution_count": 9,
   "id": "3967df71-c108-4e81-940d-4e725b3872de",
   "metadata": {
    "tags": []
   },
   "outputs": [
    {
     "data": {
      "text/plain": [
       "\u001b[0;31mDocstring:\u001b[0m\n",
       "print(value, ..., sep=' ', end='\\n', file=sys.stdout, flush=False)\n",
       "\n",
       "Prints the values to a stream, or to sys.stdout by default.\n",
       "Optional keyword arguments:\n",
       "file:  a file-like object (stream); defaults to the current sys.stdout.\n",
       "sep:   string inserted between values, default a space.\n",
       "end:   string appended after the last value, default a newline.\n",
       "flush: whether to forcibly flush the stream.\n",
       "\u001b[0;31mType:\u001b[0m      builtin_function_or_method\n"
      ]
     },
     "metadata": {},
     "output_type": "display_data"
    }
   ],
   "source": [
    "?print"
   ]
  },
  {
   "cell_type": "markdown",
   "id": "0734bfdf-12fc-4879-8b34-2d1128863b82",
   "metadata": {},
   "source": [
    "This is a **docstring** , a special type of comment that is used to document how a function (or a class, or module) works.\n",
    "\n",
    "Notice is that there are different types of argments inside the function's parenthesis.\n",
    "\n",
    "Roughly speaking, a function has two types of arguments:\n",
    "\n",
    "- **non-optional arguments**: arguments *you*have to specify for the function to work.\n",
    "\n",
    "- **optional arguments**: arguemnets that are pre-filled with a default value by the function, but you can override them. Optional arguments appear inside the parenthesis () in the form 'optional_argument = default_value,'\n",
    "\n",
    "Example\n",
    "\n",
    "'end' is a parameter in 'print' with default value a new line\n",
    "We can pass the value ':-)' to this parameter so that it finishes the line with \":-)'."
   ]
  },
  {
   "cell_type": "markdown",
   "id": "7a024476-7fb0-42df-a81b-c3a072c925be",
   "metadata": {},
   "source": [
    "## Attributes and methods\n",
    "\n",
    "An object in Python has attributes and methods.\n",
    "\n",
    "- **attributes**: a property of the object, some piece of information about it.\n",
    "- **method**: a procedure associated with an object, so it is an action where the miain ingredient is the objects itself."
   ]
  },
  {
   "cell_type": "code",
   "execution_count": 11,
   "id": "6679ec48-35d1-4a93-891c-dbb5439cf8ad",
   "metadata": {
    "tags": []
   },
   "outputs": [
    {
     "data": {
      "text/plain": [
       "numpy.ndarray"
      ]
     },
     "execution_count": 11,
     "metadata": {},
     "output_type": "execute_result"
    }
   ],
   "source": [
    "type(a.T)"
   ]
  },
  {
   "cell_type": "markdown",
   "id": "b6332c7b-8786-4e07-a24b-a965be829498",
   "metadata": {},
   "source": [
    "1. REad the print function help. What is the type of the argument sep? is this a default or non-default argument? Why? - default is the space\n",
    "\n",
    "2. Create two new variable, one with the inger value 77 and another with the stirng 99.\n",
    "\n",
    "3. Use your variable to print 77%99%77 by cahnging the value of one of the optional argumetns in 'print'"
   ]
  },
  {
   "cell_type": "code",
   "execution_count": 22,
   "id": "cf886b7f-7502-46d2-8292-339d3aaace5e",
   "metadata": {
    "tags": []
   },
   "outputs": [
    {
     "name": "stdout",
     "output_type": "stream",
     "text": [
      "77%99%77\n"
     ]
    },
    {
     "ename": "NameError",
     "evalue": "name 'paste0' is not defined",
     "output_type": "error",
     "traceback": [
      "\u001b[0;31m---------------------------------------------------------------------------\u001b[0m",
      "\u001b[0;31mNameError\u001b[0m                                 Traceback (most recent call last)",
      "\u001b[0;32m/tmp/ipykernel_1511883/3439163728.py\u001b[0m in \u001b[0;36m<module>\u001b[0;34m\u001b[0m\n\u001b[1;32m      3\u001b[0m \u001b[0;34m\u001b[0m\u001b[0m\n\u001b[1;32m      4\u001b[0m \u001b[0mprint\u001b[0m\u001b[0;34m(\u001b[0m\u001b[0ma\u001b[0m\u001b[0;34m,\u001b[0m\u001b[0mb\u001b[0m\u001b[0;34m,\u001b[0m\u001b[0ma\u001b[0m\u001b[0;34m,\u001b[0m \u001b[0msep\u001b[0m\u001b[0;34m=\u001b[0m\u001b[0;34m'%'\u001b[0m\u001b[0;34m)\u001b[0m\u001b[0;34m\u001b[0m\u001b[0;34m\u001b[0m\u001b[0m\n\u001b[0;32m----> 5\u001b[0;31m \u001b[0mpaste0\u001b[0m\u001b[0;34m(\u001b[0m\u001b[0ma\u001b[0m\u001b[0;34m,\u001b[0m\u001b[0mb\u001b[0m\u001b[0;34m,\u001b[0m\u001b[0ma\u001b[0m\u001b[0;34m)\u001b[0m\u001b[0;34m\u001b[0m\u001b[0;34m\u001b[0m\u001b[0m\n\u001b[0m",
      "\u001b[0;31mNameError\u001b[0m: name 'paste0' is not defined"
     ]
    }
   ],
   "source": [
    "a = 77\n",
    "b = '99'\n",
    "\n",
    "print(a,b,a, sep='%')\n",
    "print(paste0(a,b,a))"
   ]
  },
  {
   "cell_type": "code",
   "execution_count": null,
   "id": "28078fa9-66bd-4f24-839d-288edbb08387",
   "metadata": {},
   "outputs": [],
   "source": []
  }
 ],
 "metadata": {
  "kernelspec": {
   "display_name": "Anaconda 3 (Base)",
   "language": "python",
   "name": "base"
  },
  "language_info": {
   "codemirror_mode": {
    "name": "ipython",
    "version": 3
   },
   "file_extension": ".py",
   "mimetype": "text/x-python",
   "name": "python",
   "nbconvert_exporter": "python",
   "pygments_lexer": "ipython3",
   "version": "3.9.13"
  }
 },
 "nbformat": 4,
 "nbformat_minor": 5
}
